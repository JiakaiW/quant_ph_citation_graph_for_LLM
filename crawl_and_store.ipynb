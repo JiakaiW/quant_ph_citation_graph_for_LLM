{
 "cells": [
  {
   "cell_type": "code",
   "execution_count": 26,
   "metadata": {},
   "outputs": [
    {
     "name": "stdout",
     "output_type": "stream",
     "text": [
      "[('main', 'arxiv_to_s2', 'table', 2, 0, 0), ('main', 'citations', 'table', 2, 0, 0), ('main', 'papers', 'table', 6, 0, 0), ('main', 'arxiv_papers', 'table', 6, 0, 0), ('main', 'sqlite_schema', 'table', 5, 0, 0), ('temp', 'sqlite_temp_schema', 'table', 5, 0, 0)]\n"
     ]
    }
   ],
   "source": [
    "# print the column names of the arxiv_papers.db\n",
    "import sqlite3\n",
    "\n",
    "conn = sqlite3.connect('arxiv_papers.db')\n",
    "cur = conn.cursor()\n",
    "cur.execute(\"PRAGMA table_list\")\n",
    "print(cur.fetchall())"
   ]
  },
  {
   "cell_type": "code",
   "execution_count": null,
   "metadata": {},
   "outputs": [],
   "source": []
  }
 ],
 "metadata": {
  "kernelspec": {
   "display_name": "web",
   "language": "python",
   "name": "python3"
  },
  "language_info": {
   "codemirror_mode": {
    "name": "ipython",
    "version": 3
   },
   "file_extension": ".py",
   "mimetype": "text/x-python",
   "name": "python",
   "nbconvert_exporter": "python",
   "pygments_lexer": "ipython3",
   "version": "3.11.11"
  }
 },
 "nbformat": 4,
 "nbformat_minor": 2
}
